{
  "nbformat": 4,
  "nbformat_minor": 0,
  "metadata": {
    "colab": {
      "provenance": []
    },
    "kernelspec": {
      "name": "python3",
      "display_name": "Python 3"
    },
    "language_info": {
      "name": "python"
    }
  },
  "cells": [
    {
      "cell_type": "code",
      "execution_count": null,
      "metadata": {
        "id": "tMWDmu289BQK"
      },
      "outputs": [],
      "source": [
        "import pandas as pd\n",
        "import matplotlib.pyplot as plt\n",
        "df = pd.read_csv(\"https://raw.githubusercontent.com/mcgreevy3361/spotify-data/main/dataset.csv\")\n",
        "df\n",
        "columns = df.iloc[:, [17, 18, 19]]\n",
        "print(columns)\n",
        "df['valence'].describe()\n"
      ]
    },
    {
      "cell_type": "code",
      "source": [
        "df['tempo'].describe()"
      ],
      "metadata": {
        "id": "Jvix1FBj9SM8"
      },
      "execution_count": null,
      "outputs": []
    },
    {
      "cell_type": "code",
      "source": [
        "df['time_signature'].describe()"
      ],
      "metadata": {
        "id": "R4DjknDI9d7l"
      },
      "execution_count": null,
      "outputs": []
    },
    {
      "cell_type": "code",
      "source": [
        "fig, ax = plt.subplots()\n",
        "ax.hist(df['valence'])\n",
        "ax.set_xlabel('valence')\n",
        "ax.set_title('Histogram of valence')\n",
        "plt.show()"
      ],
      "metadata": {
        "id": "qkGm5l8O-6i7"
      },
      "execution_count": null,
      "outputs": []
    }
  ]
}